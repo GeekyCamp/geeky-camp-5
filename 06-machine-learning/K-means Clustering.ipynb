{
 "cells": [
  {
   "cell_type": "code",
   "execution_count": 2,
   "metadata": {},
   "outputs": [],
   "source": [
    "from sklearn import cluster\n",
    "import numpy as np\n",
    "import matplotlib.pyplot as plt"
   ]
  },
  {
   "cell_type": "code",
   "execution_count": 3,
   "metadata": {},
   "outputs": [
    {
     "name": "stdout",
     "output_type": "stream",
     "text": [
      "Clusters: \n",
      "[[3.         3.66666667]\n",
      " [2.         0.66666667]]\n"
     ]
    },
    {
     "data": {
      "image/png": "[encoded data removed]",
      "text/plain": [
       "<Figure size 432x288 with 1 Axes>"
      ]
     },
     "metadata": {
      "needs_background": "light"
     },
     "output_type": "display_data"
    }
   ],
   "source": [
    "# Generate dots which we will assign to clusters\n",
    "dots = np.array([[1, 2], [1, 4], [1, 0], [4, 3], [4, 4], [4, 0]])\n",
    "\n",
    "# Create KMeans Clustering model with two clusters\n",
    "kmeans = cluster.KMeans(n_clusters=2, random_state=0)\n",
    "kmeans.fit(dots)\n",
    "\n",
    "# Print the coordinates of the cluster's centroids\n",
    "print(\"Clusters: \")\n",
    "print(kmeans.cluster_centers_)\n",
    "\n",
    "centroids = kmeans.cluster_centers_\n",
    "\n",
    "# Plot the dots from the input data and the centroids\n",
    "plt.plot(dots, 'bo', color=\"blue\")\n",
    "plt.scatter(centroids[:,0], centroids[:,1], color=\"red\", marker=\"X\", s=169)\n",
    "plt.show()"
   ]
  },
  {
   "cell_type": "code",
   "execution_count": null,
   "metadata": {},
   "outputs": [],
   "source": []
  }
 ],
 "metadata": {
  "kernelspec": {
   "display_name": "Python 3",
   "language": "python",
   "name": "python3"
  },
  "language_info": {
   "codemirror_mode": {
    "name": "ipython",
    "version": 3
   },
   "file_extension": ".py",
   "mimetype": "text/x-python",
   "name": "python",
   "nbconvert_exporter": "python",
   "pygments_lexer": "ipython3",
   "version": "3.6.3"
  }
 },
 "nbformat": 4,
 "nbformat_minor": 2
}
