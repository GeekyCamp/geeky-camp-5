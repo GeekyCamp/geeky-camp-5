{
 "cells": [
  {
   "cell_type": "code",
   "execution_count": 2,
   "metadata": {},
   "outputs": [],
   "source": [
    "import numpy as np\n",
    "from sklearn import datasets, linear_model\n",
    "from sklearn.metrics import mean_squared_error, r2_score\n",
    "import matplotlib.pyplot as plt"
   ]
  },
  {
   "cell_type": "code",
   "execution_count": 4,
   "metadata": {},
   "outputs": [
    {
     "name": "stdout",
     "output_type": "stream",
     "text": [
      "Coefficients:  [9.52462596]\n",
      "Mean Squared Error: 72.59\n",
      "Variance: -1.83\n"
     ]
    },
    {
     "data": {
      "image/png": "[encoded data removed]",
      "text/plain": [
       "<Figure size 432x288 with 1 Axes>"
      ]
     },
     "metadata": {
      "needs_background": "light"
     },
     "output_type": "display_data"
    }
   ],
   "source": [
    "boston_dataset = datasets.load_boston()\n",
    "\n",
    "# Select only the 5th column from the dataset\n",
    "X = boston_dataset.data[:, np.newaxis, 5]\n",
    "\n",
    "# Split the input data X and labels Y into train and test sets\n",
    "x_train = X[:-100]\n",
    "y_train = boston_dataset.target[:-100]\n",
    "\n",
    "x_test = X[-100:]\n",
    "y_test = boston_dataset.target[-100:]\n",
    "\n",
    "# Create and train a linear regression model on the training input data and labels\n",
    "linear_regression = linear_model.LinearRegression()\n",
    "linear_regression.fit(x_train, y_train)\n",
    "\n",
    "# Predict labels using the test input data\n",
    "y_pred = linear_regression.predict(x_test)\n",
    "\n",
    "# Print the coefficients, mean squared error and r2 score by using the real test labels and the predicted ones\n",
    "print(\"Coefficients: \", linear_regression.coef_)\n",
    "print(\"Mean Squared Error: %.2f\" % mean_squared_error(y_test, y_pred))\n",
    "print(\"Variance: %.2f\" % r2_score(y_test, y_pred))\n",
    "\n",
    "\n",
    "# Create a scatter plot for the test data\n",
    "plt.scatter(x_test, y_test, color=\"black\")\n",
    "\n",
    "# Plot the line of the predicted prices from the linear regression model\n",
    "plt.plot(x_test, y_pred, color=\"blue\")\n",
    "plt.xlabel(\"Number of Rooms\")\n",
    "plt.ylabel(\"Price\")\n",
    "plt.show()"
   ]
  },
  {
   "cell_type": "code",
   "execution_count": null,
   "metadata": {},
   "outputs": [],
   "source": []
  }
 ],
 "metadata": {
  "kernelspec": {
   "display_name": "Python 3",
   "language": "python",
   "name": "python3"
  },
  "language_info": {
   "codemirror_mode": {
    "name": "ipython",
    "version": 3
   },
   "file_extension": ".py",
   "mimetype": "text/x-python",
   "name": "python",
   "nbconvert_exporter": "python",
   "pygments_lexer": "ipython3",
   "version": "3.6.3"
  }
 },
 "nbformat": 4,
 "nbformat_minor": 2
}
